{
 "cells": [
  {
   "cell_type": "markdown",
   "metadata": {},
   "source": [
    "# Create a parking garage using the Object Oriented Programming(OOP)"
   ]
  },
  {
   "cell_type": "markdown",
   "metadata": {},
   "source": [
    "# Step one take Ticket steps:\n",
    "# A. Decrease the amount of tickets available by 1\n",
    "# B. Decrease the amount of parkingSpaces available by 1"
   ]
  },
  {
   "cell_type": "markdown",
   "metadata": {},
   "source": [
    "# Create parking garage attributes\n",
    "# Tickets -> list\n",
    "# ParkingSpaces -> list\n",
    "# CurrentTicket -> dictionary"
   ]
  },
  {
   "cell_type": "markdown",
   "metadata": {},
   "source": [
    "###### Provide name and approxamite line numbers where each person wrote their code\n",
    "# First part of the code: (the inital start)\n",
    "# Connie and Alejandra (Drivers)- Lines,1-14, 1-27"
   ]
  },
  {
   "cell_type": "code",
   "execution_count": 17,
   "metadata": {},
   "outputs": [
    {
     "name": "stdout",
     "output_type": "stream",
     "text": [
      "Row 1\n",
      "Spot 1\n",
      "10am\n",
      "9-9-23\n",
      "Row 1\n",
      "Spot 2\n",
      "11am\n",
      "9-9-23\n"
     ]
    }
   ],
   "source": [
    "# Parking Ticket for spot number 1-A\n",
    "def my_function(YourParkingTicket):\n",
    "    for x in YourParkingTicket:\n",
    "        print(x)\n",
    "YourParkingTicket = [\"Row 1\", \"Spot 1\",\"10am\", \"9-9-23\"]\n",
    "my_function(YourParkingTicket)\n",
    "\n",
    "\n",
    "# Parking Ticket for spot number 2-B\n",
    "def my_function(YourParkingTicket):\n",
    "    for x in YourParkingTicket:\n",
    "        print(x)\n",
    "YourParkingTicket = [\"Row 1\", \"Spot 2\",\"11am\", \"9-9-23\"]\n",
    "my_function(YourParkingTicket)"
   ]
  },
  {
   "cell_type": "code",
   "execution_count": 18,
   "metadata": {},
   "outputs": [
    {
     "name": "stdout",
     "output_type": "stream",
     "text": [
      "Car parked in 2-B\n",
      "No available parking spots\n",
      "Car parked in 1-A\n"
     ]
    }
   ],
   "source": [
    "\n",
    "#If parking spot 1-A is taken then put car in 2-B, but if both spots are taken tell guest\n",
    "# 0 represents spot 1-A is not taken\n",
    "# 1 represents spot 2-B is taken\n",
    "spot_1A_taken = 0\n",
    "spot_2B_taken = 1\n",
    "if spot_1A_taken == 0 and spot_2B_taken == 1:\n",
    "    print(\"Car parked in 2-B\")\n",
    "elif spot_1A_taken == 1 and spot_2B_taken == 0:\n",
    "    print(\"Car parked in 1-A\")\n",
    "else:\n",
    "    print(\"No available parking spots\")\n",
    "spot_1A_taken = 0\n",
    "spot_2B_taken = 0\n",
    "if spot_1A_taken == 0 and spot_2B_taken == 0:\n",
    "    print(\"No available parking spots\")\n",
    "elif spot_1A_taken == 0 and spot_2B_taken == 0:\n",
    "    print(\"No available parking spots\")\n",
    "else:\n",
    "    print(\"No available parking spots\")\n",
    "spot_1A_taken = 1\n",
    "spot_2B_taken = 0\n",
    "if spot_1A_taken == 1 and spot_2B_taken == 0:\n",
    "    print(\"Car parked in 1-A\")\n",
    "elif spot_1A_taken == 1 and spot_2B_taken == 0:\n",
    "    print(\"Car parked in 1-A\")\n",
    "else:\n",
    "    print(\"No available parking spots\")"
   ]
  }
 ],
 "metadata": {
  "kernelspec": {
   "display_name": "base",
   "language": "python",
   "name": "python3"
  },
  "language_info": {
   "codemirror_mode": {
    "name": "ipython",
    "version": 3
   },
   "file_extension": ".py",
   "mimetype": "text/x-python",
   "name": "python",
   "nbconvert_exporter": "python",
   "pygments_lexer": "ipython3",
   "version": "3.11.4"
  },
  "orig_nbformat": 4
 },
 "nbformat": 4,
 "nbformat_minor": 2
}
