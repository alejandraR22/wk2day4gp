{
 "cells": [
  {
   "cell_type": "markdown",
   "metadata": {},
   "source": [
    "# Create a parking garage using the Object Oriented Programming(OOP)"
   ]
  },
  {
   "cell_type": "markdown",
   "metadata": {},
   "source": [
    "# Step two pay for parking:\n",
    "# A. Display an input that waits for an amount from the user and store it in a variable\n",
    "# B. If the payment variable is not empty then (meaning the ticket has been paid)\n",
    "# C. Display a message to the user that their ticket has been paid and they have 15mins to leave\n",
    "# when you do create a to b above this should update the \"currentTicket\" dictionary key \"paid\" to True leaveGarage"
   ]
  },
  {
   "cell_type": "markdown",
   "metadata": {},
   "source": [
    "# Create parking garage attributes\n",
    "# Tickets -> list\n",
    "# ParkingSpaces -> list\n",
    "# CurrentTicket -> dictionary"
   ]
  },
  {
   "cell_type": "markdown",
   "metadata": {},
   "source": [
    "###### Provide name and approxamite line numbers where each person wrote their code\n",
    "# Connie (Navigator)- NO code write from this person\n",
    "# Alejandra (Driver)-1-15 , 1-15, 1-22, 1-22"
   ]
  },
  {
   "cell_type": "markdown",
   "metadata": {},
   "source": [
    "# Start Code Here"
   ]
  },
  {
   "cell_type": "code",
   "execution_count": 5,
   "metadata": {},
   "outputs": [
    {
     "name": "stdout",
     "output_type": "stream",
     "text": [
      "----------------Parking Rate-------------------\n",
      "Two Hours : $4.00\n",
      "Four Hours: $3.00\n",
      "Each Additional Hours: $1.00\n",
      "Lost Ticket Charge: $36.00\n",
      "---------------------Your Parking Ticket-----------------------------------\n",
      "Row 1\n",
      "Spot 1\n",
      "10am\n",
      "9-9-23\n"
     ]
    }
   ],
   "source": [
    "#Parking Fees for parking in our garage for spot 1-A\n",
    "ParkingRate = {\"Two Hours\" : 4.00,\n",
    "               \"Four Hours\" : 3.00,\n",
    "               \"Each Additional Hours\" : 1.00,\n",
    "               \"Lost Ticket Charge\" : 36.00,}\n",
    "print(\"----------------Parking Rate-------------------\")\n",
    "for key, value in ParkingRate.items():\n",
    "    print(f\"{key:10}: ${value:.2f}\")\n",
    "# Parking Ticket for spot number 1-A\n",
    "print(\"---------------------Your Parking Ticket-----------------------------------\")\n",
    "def my_function(YourParkingTicket):\n",
    "    for x in YourParkingTicket:\n",
    "        print(x)\n",
    "YourParkingTicket = [\"Row 1\", \"Spot 1\",\"10am\", \"9-9-23\"]\n",
    "my_function(YourParkingTicket)\n",
    "        "
   ]
  },
  {
   "cell_type": "code",
   "execution_count": 6,
   "metadata": {},
   "outputs": [
    {
     "name": "stdout",
     "output_type": "stream",
     "text": [
      "----------------Parking Rate-------------------\n",
      "Two Hours : $4.00\n",
      "Four Hours: $3.00\n",
      "Each Additional Hours: $1.00\n",
      "Lost Ticket Charge: $36.00\n",
      "---------------------Your Parking Ticket-----------------------------------\n",
      "Row 1\n",
      "Spot 2\n",
      "11am\n",
      "9-9-23\n"
     ]
    }
   ],
   "source": [
    "#Parking Fees for parking in our garage for spot 2-B\n",
    "ParkingRate = {\"Two Hours\" : 4.00,\n",
    "               \"Four Hours\" : 3.00,\n",
    "               \"Each Additional Hours\" : 1.00,\n",
    "               \"Lost Ticket Charge\" : 36.00,}\n",
    "print(\"----------------Parking Rate-------------------\")\n",
    "for key, value in ParkingRate.items():\n",
    "    print(f\"{key:10}: ${value:.2f}\")\n",
    "# Parking Ticket for spot number 1-A\n",
    "print(\"---------------------Your Parking Ticket-----------------------------------\")\n",
    "def my_function(YourParkingTicket):\n",
    "    for x in YourParkingTicket:\n",
    "        print(x)\n",
    "YourParkingTicket = [\"Row 1\", \"Spot 2\",\"11am\", \"9-9-23\"]\n",
    "my_function(YourParkingTicket)"
   ]
  },
  {
   "cell_type": "markdown",
   "metadata": {},
   "source": []
  },
  {
   "cell_type": "markdown",
   "metadata": {},
   "source": [
    "# See Below for Spopt 1A & 2B"
   ]
  },
  {
   "cell_type": "code",
   "execution_count": 7,
   "metadata": {},
   "outputs": [
    {
     "name": "stdout",
     "output_type": "stream",
     "text": [
      "The parking fee for 5 hours is $4.00\n",
      "Your Parking Ticket Has Been Paid IN FULL\n",
      "Please Leave In The Next 15 Mintues OR Additional Fee Will Apply\n"
     ]
    }
   ],
   "source": [
    " # Parking Fees for the Spot 1-A after they leave the garage\n",
    "# F1= Two Hours\n",
    "# F2= Four Hour\n",
    "# F3= Each Additional Hours\n",
    "# F4= Lost Ticket Charge\n",
    "f1 = 4.00\n",
    "f2 = 3.00\n",
    "f3 = 1.00\n",
    "f4 = 36.00\n",
    "def calculate_parking_fee(hours_parked):\n",
    "    if hours_parked <= 2:\n",
    "        return f1\n",
    "    elif hours_parked <=4:\n",
    "        return f2\n",
    "    else:\n",
    "        additional_hours = hours_parked - 4\n",
    "        return f2 + additional_hours * f3\n",
    "hours_parked = 5\n",
    "total_fee = calculate_parking_fee(hours_parked)\n",
    "print(f\"The parking fee for {hours_parked} hours is ${total_fee:.2f}\")\n",
    "print(\"Your Parking Ticket Has Been Paid IN FULL\")\n",
    "print(\"Please Leave In The Next 15 Mintues OR Additional Fee Will Apply\")"
   ]
  },
  {
   "cell_type": "code",
   "execution_count": 8,
   "metadata": {},
   "outputs": [
    {
     "name": "stdout",
     "output_type": "stream",
     "text": [
      "The parking fee for 8 hours is $40.00\n",
      "Your Parking Ticket Has Been Paid IN FULL\n",
      "Please Leave In The Next 15 Mintues OR Additional Fee Will Apply\n"
     ]
    }
   ],
   "source": [
    "# Parking Fees for the Spot 2-B after they leave the garage\n",
    "# F1= Two Hours\n",
    "# F2= Four Hour\n",
    "# F3= Each Additional Hours\n",
    "# F4= Lost Ticket Charge\n",
    "f1 = 4.00\n",
    "f2 = 3.00\n",
    "f3 = 1.00\n",
    "f4 = 36.00\n",
    "def calculate_parking_fee(hours_parked):\n",
    "    if hours_parked <= 2:\n",
    "        return f2\n",
    "    elif hours_parked <= 4:\n",
    "        return f2\n",
    "    else:\n",
    "        additional_hours = hours_parked - 4\n",
    "        return f4 + additional_hours * f3\n",
    "hours_parked = 8\n",
    "total_fee = calculate_parking_fee(hours_parked)\n",
    "print(f\"The parking fee for {hours_parked} hours is ${total_fee:.2f}\")\n",
    "print(\"Your Parking Ticket Has Been Paid IN FULL\")\n",
    "print(\"Please Leave In The Next 15 Mintues OR Additional Fee Will Apply\")"
   ]
  }
 ],
 "metadata": {
  "kernelspec": {
   "display_name": "base",
   "language": "python",
   "name": "python3"
  },
  "language_info": {
   "codemirror_mode": {
    "name": "ipython",
    "version": 3
   },
   "file_extension": ".py",
   "mimetype": "text/x-python",
   "name": "python",
   "nbconvert_exporter": "python",
   "pygments_lexer": "ipython3",
   "version": "3.11.4"
  },
  "orig_nbformat": 4
 },
 "nbformat": 4,
 "nbformat_minor": 2
}
