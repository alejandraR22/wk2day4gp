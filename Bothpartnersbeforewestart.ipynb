{
 "cells": [
  {
   "cell_type": "markdown",
   "metadata": {},
   "source": [
    "Create a parking garage using the Object Oriented Programming(OOP)"
   ]
  },
  {
   "cell_type": "markdown",
   "metadata": {},
   "source": [
    "# Intial drive for this project is Constance Dubose\n",
    "# Navigator for this project is Alejandra Ortiz"
   ]
  },
  {
   "cell_type": "markdown",
   "metadata": {},
   "source": [
    "# Below are the list of methods\n",
    "# Step one take Ticket steps:\n",
    "# A. Decrease the amount of tickets available by 1\n",
    "# B. Decrease the amount of parkingSpaces available by 1"
   ]
  },
  {
   "cell_type": "markdown",
   "metadata": {},
   "source": [
    "# Step two pay for parking:\n",
    "# A. Display an input that waits for an amount from the user and store it in a variable\n",
    "# B. If the payment variable is not empty then (meaning the ticket has been paid)\n",
    "# C. Display a message to the user that their ticket has been paid and they have 15mins to leave\n",
    "# when you do create a to b above this should update the \"currentTicket\" dictionary key \"paid\" to True leaveGarage"
   ]
  },
  {
   "cell_type": "markdown",
   "metadata": {},
   "source": [
    "# Step three leave the garage:\n",
    "# A. If the ticket has been paid, display a message of \"Thank You, have a nice day\"\n",
    "# B. If the ticket has not been paid, display an input prompt for payment\n",
    "# C. Once paid, display message \"Thank you, have a nice day!\"\n",
    "# D. Update parkingSpaces list to increase by 1 (meaning add to the parkingSpaces list).\n",
    "# E. Update tickets list to increase by 1 (meaning add to the tickets list)"
   ]
  },
  {
   "cell_type": "markdown",
   "metadata": {},
   "source": [
    "# Create parking garage attributes\n",
    "# Tickets -> list\n",
    "# ParkingSpaces -> list\n",
    "# CurrentTicket -> dictionary"
   ]
  },
  {
   "cell_type": "markdown",
   "metadata": {},
   "source": [
    "# BEFORE WE START (Brainstorm)"
   ]
  },
  {
   "cell_type": "markdown",
   "metadata": {},
   "source": [
    "# Constance Dubose ideas:\n",
    "# We both will write codes to take tickets on vsc add them to gihub\n",
    "# Alejandra you will write the code to leave the garage on vs and add them to gihub\n",
    "\n",
    "# Alejandra Ortiz:\n",
    "# We both will write codes to take tickets on vsc add them to gihub\n",
    "# Constance will write the code to pay for parking on vs and add them to gihub\n"
   ]
  },
  {
   "cell_type": "markdown",
   "metadata": {},
   "source": [
    "# Ideas together:\n",
    "# then we will add all the code together to make one code to make sure it runs correctly and then add them to gihub\n",
    "# resources we will use will be youtube, W3School, and our classroom recordings\n",
    "# we both will clone, pull request, and fork in github"
   ]
  },
  {
   "cell_type": "markdown",
   "metadata": {},
   "source": [
    "# Note:\n",
    "# Use VSCode for this project starting with the following files below.\n",
    "# Also, each person in the group should list the portion of the project they were responsible for inside of the python file and inside the README file"
   ]
  },
  {
   "cell_type": "markdown",
   "metadata": {},
   "source": [
    "###### List group responsiblities below:\n",
    "# Connie started the code\n",
    "# Both worked on page titles and layout of the pages\n",
    "# Take the Tickets: Connie and Alejandra (Drivers)\n",
    "# Paying for Parking: Connie (Navigator) and Alejandra (Driver)\n",
    "# Leave the Garage: Connie (Driver) and Alejandra (Navigator)\n",
    "# Both worked on the combinding all steps into one code to make sure it runs correctly\n"
   ]
  },
  {
   "cell_type": "markdown",
   "metadata": {},
   "source": [
    "###### Provide name and approxamite line numbers where each person wrote their code\n",
    "# First part of the code: (the inital start)\n",
    "# Connie and Alejandra- line 1 to 61\n",
    "# Second part of the code: (Take the Ticket):\n",
    "# Connie and Alejandra (Drivers)- Line\n",
    "# Third part of the code: (Paying for the parking)\n",
    "# Connie (Navigator)- NO code write from this person\n",
    "# Alejandra (Driver)-\n",
    "# Fourth part of the code: (leave the garage):\n",
    "# Connie (Driver) line-\n",
    "# Alejandra (Navigator)- NO code write from this person\n",
    "# Fifth part of the code: ( we combine our codes together):\n",
    "# look at lines  and that will explain wrote what code"
   ]
  },
  {
   "cell_type": "markdown",
   "metadata": {},
   "source": []
  }
 ],
 "metadata": {
  "language_info": {
   "name": "python"
  },
  "orig_nbformat": 4
 },
 "nbformat": 4,
 "nbformat_minor": 2
}
